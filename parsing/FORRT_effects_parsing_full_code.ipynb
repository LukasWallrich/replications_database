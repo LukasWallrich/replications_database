{
 "cells": [
  {
   "cell_type": "code",
   "execution_count": 46,
   "id": "51fcba86",
   "metadata": {},
   "outputs": [],
   "source": [
    "\n",
    "import pandas as pd\n",
    "import re\n",
    "\n",
    "def parse_markdown(markdown_path):\n",
    "    with open(markdown_path, 'r') as f:\n",
    "        content = f.read()\n",
    "    parsed_data_fixed = []\n",
    "    effect_sections_all = re.split(r'\\n####\\s*', content)\n",
    "    field_patterns = {\n",
    "        'Status': r'Status:\\s*(.*?)\\n',\n",
    "        'Original paper': r'Original paper:\\s*(.*?)\\n',\n",
    "        'Critiques': r'Critique[s]*:\\s*(.*?)\\n',\n",
    "        'Original effect size': r'Original effect size[s]*:\\s*(.*?)\\n',\n",
    "        'Replication effect size': r'Replication effect size[s]*:\\s*(.*?)\\n'\n",
    "    }\n",
    "    for effect_section in effect_sections_all:\n",
    "        lines_in_effect_section = effect_section.split('\\n')\n",
    "        first_line = lines_in_effect_section[0].strip()\n",
    "        if re.match(r\"^###\\s*\\*\\*\", first_line) is not None:\n",
    "            discipline_name = first_line[4:].strip()\n",
    "            continue\n",
    "        effect_name = first_line\n",
    "        description = next((line.strip() for line in lines_in_effect_section[1:] if line.strip()), '')\n",
    "        remaining_effect_lines = '\\n'.join(lines_in_effect_section[1:])\n",
    "        field_data = {field: re.findall(pattern, remaining_effect_lines) for field, pattern in field_patterns.items()}\n",
    "        parsed_data_fixed.append({\n",
    "            'Discipline': discipline_name,\n",
    "            'Effect': effect_name,\n",
    "            'Description': description,\n",
    "            **{field: field_data[field][0] if field_data[field] else '' for field in field_patterns.keys()}\n",
    "        })\n",
    "    df_fixed = pd.DataFrame(parsed_data_fixed)\n",
    "    df_fixed['Discipline'] = df_fixed['Discipline'].str.strip('*_ ')\n",
    "    df_fixed['Description'] = df_fixed.apply(lambda row: row['Description'].replace(f\"* **{row['Effect']}**.\", \"\", 1).strip(), axis=1)\n",
    "    \n",
    "    return df_fixed\n",
    "\n",
    "def parse_critiques(critiques_data):\n",
    "\n",
    "    critiques_data = critiques_data[['Discipline', 'Effect', 'Description', 'Critiques']]\n",
    "\n",
    "    # Initialize lists to hold the new rows\n",
    "    new_rows = []\n",
    "\n",
    "    # Regular expression pattern for extracting critique, link, and notes\n",
    "    pattern = r'\\[\\s*(.+?)\\s*\\]\\((.+?)\\)\\s*\\[*(.*?)\\]*\\.'\n",
    "    doi_pattern = r'10\\..*?(?=[#?]|$)'\n",
    "\n",
    "\n",
    "    # Iterate through each row in the DataFrame\n",
    "    for idx, row in critiques_data.iterrows():\n",
    "        critiques_str = row['Critiques']\n",
    "        critiques_list = re.findall(pattern, critiques_str)\n",
    "\n",
    "        # Create new rows for each critique\n",
    "        for critique, link, notes in critiques_list:\n",
    "            new_row = row.copy()\n",
    "            new_row['Critique'] = critique.strip()\n",
    "            new_row['Link'] = link.strip()\n",
    "            doi_matches = re.findall(doi_pattern, link.strip())\n",
    "            new_row['doi'] = doi_matches[0] if doi_matches else None\n",
    "            new_row['Notes'] = notes.strip()\n",
    "            new_rows.append(new_row)\n",
    "\n",
    "    # Create a new DataFrame from the list of new rows\n",
    "    new_df = pd.DataFrame(new_rows)\n",
    "\n",
    "    # Drop the original 'Critiques' column\n",
    "    new_df.drop(columns=['Critiques'], inplace=True)\n",
    "\n",
    "    return new_df\n",
    "\n",
    "\n",
    "    # Save the new DataFrame to an Excel file\n"
   ]
  },
  {
   "cell_type": "markdown",
   "id": "ec4839c5",
   "metadata": {},
   "source": [
    "Manual precleaning steps to parse sections and effects more easily\n",
    "- Replace ####\\n by ####\n",
    "- Replace \\n### \\n by \\n### (ensure this also happens before Social Psych at top)\n",
    "- Replace empty headings: ###\\s+\\n by nothing\n",
    "- delete <p tags and subsequent image errors\n",
    "- remove linebreaks within fields, indicated by \\ at the end of a line"
   ]
  },
  {
   "cell_type": "code",
   "execution_count": 44,
   "id": "ae059af2",
   "metadata": {},
   "outputs": [],
   "source": [
    "\n",
    "# Example usage\n",
    "parsed_markdown = parse_markdown('FORRT effects v3.md')\n",
    "parsed_markdown[['Discipline', 'Effect', 'Description']].to_csv('parsed_effects.csv', index=False)\n",
    "critiques = parse_critiques(critique_df)\n",
    "critiques.to_csv('parsed_critiques.csv', index=False)\n"
   ]
  },
  {
   "cell_type": "code",
   "execution_count": 47,
   "metadata": {},
   "outputs": [],
   "source": [
    "critiques = parse_critiques(parsed_markdown)\n"
   ]
  }
 ],
 "metadata": {
  "kernelspec": {
   "display_name": "Python 3",
   "language": "python",
   "name": "python3"
  },
  "language_info": {
   "codemirror_mode": {
    "name": "ipython",
    "version": 3
   },
   "file_extension": ".py",
   "mimetype": "text/x-python",
   "name": "python",
   "nbconvert_exporter": "python",
   "pygments_lexer": "ipython3",
   "version": "3.9.6"
  }
 },
 "nbformat": 4,
 "nbformat_minor": 5
}
